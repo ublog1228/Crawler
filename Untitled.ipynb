{
 "cells": [
  {
   "cell_type": "markdown",
   "metadata": {},
   "source": [
    "# 台灣再生能源發展與相關就業趨勢\n",
    "作者：蔡旻諺－成大土木系\n",
    "## 動機與目的\n",
    "由於溫室效應對於環境的影響，以及提倡創造一個非核家園，考慮在不影響產生電力供給的條件下，紛紛提倡採用再生能源，而在世界各地再生能源已經廣泛的被使用，例:美國、中國與丹麥，但在世界各地使用再生能源推動之下，台灣在最近幾年也漸漸開始重視永續發展而推動了\"離岸風機前瞻計畫\"，在彰化外海設置風機以台灣海峽海風借電，在此之前對於太陽能發電也是很夯的議題，時常在路上看到自家住宅架設太陽能板發電。\n",
    "\n",
    "隨著時代的演進，再生能源成為大家朗朗上口的詞彙，但是在台灣再生能源的發展是否能逐漸的取代會對環境產生影響的發電來源如火力、核能，探討對於近幾年台灣發電結構分配的種類以及相對於總發電量各發電種類的成長或衰減，是否在逐漸推動下再生能源有效地取代部分原本用來發電的大宗，若反之，什麼原因造成這樣的趨勢?以及再生能源逐漸推動下，何種類型的發電系統取佔據了大部分的再生能源發電量?\n",
    "\n",
    "最後想探討隨著政府推動再生能源的普及化下，也會對台灣的社會帶來部分的經濟效益，由於在該政策下需要許多不同領域的人才來一起推動，因此在這邊想分析統計大多數能參與再生能源推廣的領域科系是哪些?"
   ]
  },
  {
   "cell_type": "markdown",
   "metadata": {},
   "source": [
    "# 資料統計分析\n",
    "## 1.台灣能源分布比例\n",
    "### 資料選取匯入"
   ]
  },
  {
   "cell_type": "code",
   "execution_count": 2,
   "metadata": {
    "scrolled": true
   },
   "outputs": [
    {
     "data": {
      "text/html": [
       "<div>\n",
       "<style scoped>\n",
       "    .dataframe tbody tr th:only-of-type {\n",
       "        vertical-align: middle;\n",
       "    }\n",
       "\n",
       "    .dataframe tbody tr th {\n",
       "        vertical-align: top;\n",
       "    }\n",
       "\n",
       "    .dataframe thead th {\n",
       "        text-align: right;\n",
       "    }\n",
       "</style>\n",
       "<table border=\"1\" class=\"dataframe\">\n",
       "  <thead>\n",
       "    <tr style=\"text-align: right;\">\n",
       "      <th></th>\n",
       "      <th>年</th>\n",
       "      <th>再生能源</th>\n",
       "      <th>汽電共生</th>\n",
       "      <th>燃氣</th>\n",
       "      <th>燃油</th>\n",
       "      <th>燃煤</th>\n",
       "      <th>抽蓄水力</th>\n",
       "      <th>核能</th>\n",
       "    </tr>\n",
       "  </thead>\n",
       "  <tbody>\n",
       "    <tr>\n",
       "      <th>0</th>\n",
       "      <td>39</td>\n",
       "      <td>9.7</td>\n",
       "      <td>0.0</td>\n",
       "      <td>0.0</td>\n",
       "      <td>0.0</td>\n",
       "      <td>0.7</td>\n",
       "      <td>0.0</td>\n",
       "      <td>0.0</td>\n",
       "    </tr>\n",
       "    <tr>\n",
       "      <th>1</th>\n",
       "      <td>40</td>\n",
       "      <td>11.6</td>\n",
       "      <td>0.0</td>\n",
       "      <td>0.0</td>\n",
       "      <td>0.0</td>\n",
       "      <td>1.2</td>\n",
       "      <td>0.0</td>\n",
       "      <td>0.0</td>\n",
       "    </tr>\n",
       "    <tr>\n",
       "      <th>2</th>\n",
       "      <td>41</td>\n",
       "      <td>12.3</td>\n",
       "      <td>0.0</td>\n",
       "      <td>0.0</td>\n",
       "      <td>0.0</td>\n",
       "      <td>1.9</td>\n",
       "      <td>0.0</td>\n",
       "      <td>0.0</td>\n",
       "    </tr>\n",
       "    <tr>\n",
       "      <th>3</th>\n",
       "      <td>42</td>\n",
       "      <td>14.6</td>\n",
       "      <td>0.0</td>\n",
       "      <td>0.0</td>\n",
       "      <td>0.0</td>\n",
       "      <td>1.0</td>\n",
       "      <td>0.0</td>\n",
       "      <td>0.0</td>\n",
       "    </tr>\n",
       "    <tr>\n",
       "      <th>4</th>\n",
       "      <td>43</td>\n",
       "      <td>15.6</td>\n",
       "      <td>0.0</td>\n",
       "      <td>0.0</td>\n",
       "      <td>0.0</td>\n",
       "      <td>2.4</td>\n",
       "      <td>0.0</td>\n",
       "      <td>0.0</td>\n",
       "    </tr>\n",
       "  </tbody>\n",
       "</table>\n",
       "</div>"
      ],
      "text/plain": [
       "    年  再生能源  汽電共生   燃氣   燃油   燃煤  抽蓄水力   核能\n",
       "0  39   9.7   0.0  0.0  0.0  0.7   0.0  0.0\n",
       "1  40  11.6   0.0  0.0  0.0  1.2   0.0  0.0\n",
       "2  41  12.3   0.0  0.0  0.0  1.9   0.0  0.0\n",
       "3  42  14.6   0.0  0.0  0.0  1.0   0.0  0.0\n",
       "4  43  15.6   0.0  0.0  0.0  2.4   0.0  0.0"
      ]
     },
     "execution_count": 2,
     "metadata": {},
     "output_type": "execute_result"
    }
   ],
   "source": [
    "import urllib\n",
    "import urllib.request\n",
    "import urllib.error\n",
    "import csv\n",
    "import pandas\n",
    "import matplotlib.pyplot as plt\n",
    "\n",
    "url = 'https://www.taipower.com.tw/tc/chart/data/%E5%8F%B0%E9%9B%BB%E7%B3%BB%E7%B5%B1%E6%AD%B7%E5%B9%B4%E7%99%BC%E9%9B%BB%E9%87%8F%E5%88%86%E4%B8%83%E9%A1%9E(39-106).csv'\n",
    "try:\n",
    "    urllib.request.urlretrieve(url, 'data_eletric_years.csv')\n",
    "except urllib.error.HTTPError as ex:\n",
    "    print('Problem:', ex)\n",
    "req = pandas.read_csv('data_eletric_years.csv')\n",
    "select = pandas.DataFrame(req)\n",
    "select.head()"
   ]
  },
  {
   "cell_type": "markdown",
   "metadata": {},
   "source": [
    "資料的選取上採用台灣電力公司內部的開放的資料庫，在資料中統計了從民國39～106年各年度採用不同能源進行發電的總量，資料的抓取上採用如以上程式碼所示，將網址處*.csv檔下載放置內部資料夾以方便下一步對可利用之資料進行視覺化討論。"
   ]
  },
  {
   "cell_type": "code",
   "execution_count": 8,
   "metadata": {},
   "outputs": [
    {
     "data": {
      "image/png": "[encoded data removed]",
      "text/plain": [
       "<matplotlib.figure.Figure at 0x9457eb8>"
      ]
     },
     "metadata": {},
     "output_type": "display_data"
    }
   ],
   "source": [
    "\n",
    "plt.rcParams['font.sans-serif']=['SimHei']\n",
    "plt.rcParams['axes.unicode_minus']=False\n",
    "legd = [ u'年',u'再生能源', u'汽電共生', u'燃氣', u'燃油', u'燃煤', u'抽蓄水力', u'核能']\n",
    "x = select.iloc[:,0]\n",
    "for i in range(1,8):\n",
    "    newable = select.iloc[:,i]\n",
    "    plt.plot(x,newable,label=legd[i])\n",
    "plt.title(u'台電各年度結構發電量')\n",
    "plt.xlim(39,106)\n",
    "plt.xlabel('年度')\n",
    "plt.ylabel('單位: 萬瓩')\n",
    "plt.legend()\n",
    "plt.show()"
   ]
  },
  {
   "cell_type": "markdown",
   "metadata": {},
   "source": [
    "從每年分佈圖上我們可以得到下列幾個論點:\n",
    "- 核能發電由於近幾年的使用的程度越來越少了。\n",
    "- 減少核能發電後取而代之的是使用燃煤與燃氣供電。\n",
    "- 推動的再生能源隨著近幾年政策有緩慢的成長。\n",
    "- 最近幾年最常使用的發電系統依然是火力發電。\n",
    "\n",
    "這邊可以說在民國100年之前對於再生能源的意識還沒有很明顯，到了現在再生能源成為家喻戶曉的話題，但為什麼在電力供給上，火力發電還是佔大多數? 以下探討台灣常用之再生能源的系統與缺點:\n",
    "1. 再生能源取用不易，容易受天候影響，如風力發電則須考慮季節季風的機率。\n",
    "2. 相對於之前用的發電系統，再生能源建構的成本非常高。\n",
    "3. 再生能源無法24小時運作，因此假設以一天為單位的話，火力與核能等等發電量還是比較高。\n",
    "但由於現在推廣再生能源，以後也會成為未來的趨勢，在以下細分再生能源探討何種發電結構常使用於發電，以及最近幾年發電類型的轉變或是使用的增長。"
   ]
  },
  {
   "cell_type": "markdown",
   "metadata": {},
   "source": [
    "## 再生能源比例分布\n",
    "### 選取資料匯入(台灣電力公司)"
   ]
  },
  {
   "cell_type": "code",
   "execution_count": 3,
   "metadata": {},
   "outputs": [
    {
     "data": {
      "text/html": [
       "<div>\n",
       "<style scoped>\n",
       "    .dataframe tbody tr th:only-of-type {\n",
       "        vertical-align: middle;\n",
       "    }\n",
       "\n",
       "    .dataframe tbody tr th {\n",
       "        vertical-align: top;\n",
       "    }\n",
       "\n",
       "    .dataframe thead th {\n",
       "        text-align: right;\n",
       "    }\n",
       "</style>\n",
       "<table border=\"1\" class=\"dataframe\">\n",
       "  <thead>\n",
       "    <tr style=\"text-align: right;\">\n",
       "      <th></th>\n",
       "      <th>年度</th>\n",
       "      <th>風力(萬瓩)</th>\n",
       "      <th>太陽電(萬瓩)</th>\n",
       "      <th>其他(含水力)(萬瓩)</th>\n",
       "      <th>總計(萬瓩)</th>\n",
       "    </tr>\n",
       "  </thead>\n",
       "  <tbody>\n",
       "    <tr>\n",
       "      <th>0</th>\n",
       "      <td>97</td>\n",
       "      <td>24.60</td>\n",
       "      <td>0.25</td>\n",
       "      <td>193.79</td>\n",
       "      <td>218.63</td>\n",
       "    </tr>\n",
       "    <tr>\n",
       "      <th>1</th>\n",
       "      <td>98</td>\n",
       "      <td>34.69</td>\n",
       "      <td>0.55</td>\n",
       "      <td>193.69</td>\n",
       "      <td>228.93</td>\n",
       "    </tr>\n",
       "    <tr>\n",
       "      <th>2</th>\n",
       "      <td>99</td>\n",
       "      <td>47.15</td>\n",
       "      <td>0.70</td>\n",
       "      <td>197.74</td>\n",
       "      <td>245.59</td>\n",
       "    </tr>\n",
       "    <tr>\n",
       "      <th>3</th>\n",
       "      <td>100</td>\n",
       "      <td>51.83</td>\n",
       "      <td>4.44</td>\n",
       "      <td>204.07</td>\n",
       "      <td>260.33</td>\n",
       "    </tr>\n",
       "    <tr>\n",
       "      <th>4</th>\n",
       "      <td>101</td>\n",
       "      <td>58.50</td>\n",
       "      <td>13.25</td>\n",
       "      <td>208.13</td>\n",
       "      <td>279.87</td>\n",
       "    </tr>\n",
       "  </tbody>\n",
       "</table>\n",
       "</div>"
      ],
      "text/plain": [
       "    年度  風力(萬瓩)  太陽電(萬瓩)  其他(含水力)(萬瓩)  總計(萬瓩)\n",
       "0   97   24.60     0.25       193.79  218.63\n",
       "1   98   34.69     0.55       193.69  228.93\n",
       "2   99   47.15     0.70       197.74  245.59\n",
       "3  100   51.83     4.44       204.07  260.33\n",
       "4  101   58.50    13.25       208.13  279.87"
      ]
     },
     "execution_count": 3,
     "metadata": {},
     "output_type": "execute_result"
    }
   ],
   "source": [
    "url = 'http://data.taipower.com.tw/opendata/apply/file/d007013/%E5%8F%B0%E7%81%A3%E9%9B%BB%E5%8A%9B%E5%85%AC%E5%8F%B8_%E5%90%84%E5%B9%B4%E5%BA%A6%E5%86%8D%E7%94%9F%E8%83%BD%E6%BA%90%E5%88%A5%E8%A3%9D%E7%BD%AE%E5%AE%B9%E9%87%8F.csv'\n",
    "try:  \n",
    "    urllib.request.urlretrieve(url, 'data_renew_years.csv')\n",
    "except urllib.error.HTTPError as ex:\n",
    "    print('Problem:', ex)\n",
    "req = pandas.read_csv('data_renew_years.csv')\n",
    "select = pandas.DataFrame(req)\n",
    "select.head()"
   ]
  },
  {
   "cell_type": "code",
   "execution_count": 10,
   "metadata": {},
   "outputs": [
    {
     "data": {
      "image/png": "[encoded data removed]",
      "text/plain": [
       "<matplotlib.figure.Figure at 0x93886a0>"
      ]
     },
     "metadata": {},
     "output_type": "display_data"
    }
   ],
   "source": [
    "\n",
    "legd = [ u'年',u'風力', u'太陽電', u'其他(含水力)']\n",
    "x = select.iloc[:,0]\n",
    "plus=[]\n",
    "for i,j in zip(select.iloc[:,1] ,select.iloc[:,2]):\n",
    "    plus.append(i+j)\n",
    "# plot bar\n",
    "plt.bar(x,select.iloc[:,1],label=legd[1],edgecolor='white')\n",
    "plt.bar(x,select.iloc[:,2],label=legd[2],edgecolor='white',bottom=select.iloc[:,1])\n",
    "plt.bar(x,select.iloc[:,3],label=legd[3],edgecolor='white',bottom=plus)\n",
    "# plot with total used eletric\n",
    "plt.plot(x,select.iloc[:,4],marker='o',color='black')\n",
    "plt.xlabel('年度')\n",
    "plt.ylabel('單位: 萬瓩')\n",
    "plt.xticks(x)\n",
    "plt.title('再生能源比例')\n",
    "plt.legend()\n",
    "plt.show()"
   ]
  },
  {
   "cell_type": "markdown",
   "metadata": {},
   "source": [
    "這張圖資料來源為台灣電力公司，資料集從民國97年～106年針對再生能源發電的總量再去細分出不同能源類型對於整體佔據的數量，從圖表上得知:\n",
    "- 再生能源的發電量隨著年成長而成長。\n",
    "- 太陽能發電與風力發電經過這幾年有比較明顯的成長。\n",
    "使用再生能源對於環境保護以及永續發展有很好的幫助，從另一方面來看在使用再生能源之前，建造再生能源也是一項必須的工作，尤其是建構的成本都是相當的高，因此對於建構過程中對於台灣經濟的推動也會有影響，但是在這方面需要很多領域的共同合作才能達成這項建立出能供電的再生能源機具這樣的目標，因此想觀察在這項永續發展的推動下需要哪種領域的人才，也能讓不知道自己的專業能否參與這樣的計畫的人有初步的了解。"
   ]
  }
 ],
 "metadata": {
  "kernelspec": {
   "display_name": "Python 3",
   "language": "python",
   "name": "python3"
  },
  "language_info": {
   "codemirror_mode": {
    "name": "ipython",
    "version": 3
   },
   "file_extension": ".py",
   "mimetype": "text/x-python",
   "name": "python",
   "nbconvert_exporter": "python",
   "pygments_lexer": "ipython3",
   "version": "3.6.4"
  }
 },
 "nbformat": 4,
 "nbformat_minor": 2
}
